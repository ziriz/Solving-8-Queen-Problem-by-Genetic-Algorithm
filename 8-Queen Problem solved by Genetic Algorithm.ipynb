{
 "cells": [
  {
   "cell_type": "markdown",
   "metadata": {},
   "source": [
    "### Importing Required Python Modules:"
   ]
  },
  {
   "cell_type": "code",
   "execution_count": 1,
   "metadata": {},
   "outputs": [],
   "source": [
    "import random as r\n",
    "from collections import Counter\n",
    "import copy"
   ]
  },
  {
   "cell_type": "markdown",
   "metadata": {},
   "source": [
    "### Function for generating Initial Population: "
   ]
  },
  {
   "cell_type": "code",
   "execution_count": 2,
   "metadata": {},
   "outputs": [],
   "source": [
    "def generate_population(x,n):\n",
    "    '''This function takes 'x' which is number of individuals in the population and 'n' \n",
    "       which is the size of Chess board'''\n",
    "    \n",
    "    population=[]\n",
    "    i=0\n",
    "    while i<x:\n",
    "        xx=[r.randint(0,n-1) for i in range(n)]\n",
    "        population.append(xx)\n",
    "        i+=1\n",
    "    return population"
   ]
  },
  {
   "cell_type": "markdown",
   "metadata": {},
   "source": [
    "### Function for evaluating the Fitness of the Individuals:"
   ]
  },
  {
   "cell_type": "code",
   "execution_count": 3,
   "metadata": {},
   "outputs": [],
   "source": [
    "def fitness_evaluation(individual):\n",
    "    '''This function takes an individual as argument and tests its fitness \n",
    "       i.e., how close is the individual to optimal solution to our n-Queen problem\n",
    "       \n",
    "       There are three things that needs to be ensured and based on these factors, we decide the fitness score:\n",
    "       \n",
    "       1. No two Queen should share same column \n",
    "          (This has been taken care since we generate only one Queen position in one column)\n",
    "          \n",
    "       2. No two Queen should share same row \n",
    "          (By checking whether distinct number of Queen positions = size of the board)\n",
    "          \n",
    "       3. No two Queen should be in diagonal path (By checking relative positions of each positions)'''\n",
    "    \n",
    "    weightage_for_faults=0\n",
    "    board_size=len(individual)\n",
    "    \n",
    "#   2. Checking for same-row Queens in Individual:\n",
    "    c=Counter(individual)\n",
    "    s=list(c.values())\n",
    "    \n",
    "    if s.count(1)==board_size:\n",
    "        weightage_for_faults=0\n",
    "        s=[]\n",
    "    elif s.count(1)!=board_size and s.count(1)>0:\n",
    "        s=list(filter(lambda z:z!=1,s))\n",
    "        weightage_for_faults=sum(s)*10\n",
    "    elif s.count(1)==0:\n",
    "        weightage_for_faults=sum(s)*10\n",
    "        \n",
    "#   3. Checking for diagonal Queens in Individual:\n",
    "    err_count=0\n",
    "    temp=0\n",
    "    \n",
    "    for i in range(len(individual)):\n",
    "        x=individual[i]\n",
    "        if x!=0:\n",
    "            cmp1=list(range(x,-1,-1))\n",
    "            cmp2=list(range(x,9,1))\n",
    "        \n",
    "            for j in range(i+1,len(cmp1)+temp):\n",
    "                if j<=len(individual)-1:\n",
    "                    if individual[j]==cmp1[j-temp] :\n",
    "                        err_count+=1\n",
    "        \n",
    "            for k in range(i+1,len(cmp2)+temp):\n",
    "                if k<=len(individual)-1:\n",
    "                    if individual[k]==cmp2[k-temp]:\n",
    "                        err_count+=1\n",
    "            temp+=1\n",
    "        else:\n",
    "            temp+=1\n",
    "\n",
    "    weightage_for_faults=weightage_for_faults+(err_count*5)\n",
    "    return 100-weightage_for_faults "
   ]
  },
  {
   "cell_type": "markdown",
   "metadata": {},
   "source": [
    "### Function for Sorting the population based on Fitness Function:"
   ]
  },
  {
   "cell_type": "code",
   "execution_count": 4,
   "metadata": {},
   "outputs": [],
   "source": [
    "def sort_population_by_fitness(population):\n",
    "    '''This function takes population as input argument and sort the individuals based on fitness values from \n",
    "       min to max'''\n",
    "    \n",
    "    return sorted(population, key=fitness_evaluation)"
   ]
  },
  {
   "cell_type": "markdown",
   "metadata": {},
   "source": [
    "### Selection of Parents for next Generation:"
   ]
  },
  {
   "cell_type": "code",
   "execution_count": 5,
   "metadata": {},
   "outputs": [],
   "source": [
    "def selection_by_roulette_wheel(population):\n",
    "    '''This function chooses best candidates for next generation using Roulette Wheel selection method.\n",
    "       Based on the fitness value, the individuals are selected for next generation population. \n",
    "       The more the fitness, greater the chances of getting selected'''\n",
    "    \n",
    "    fitness=[]\n",
    "    for individual in population:\n",
    "        fitness.append(1/1+(fitness_evaluation(individual)))\n",
    "    \n",
    "    probability=[fitness[i]/sum(fitness) for i in range(len(fitness))]\n",
    "    \n",
    "    cum_probability=[]\n",
    "    temp=0\n",
    "    for i in range(len(probability)):\n",
    "        temp=temp+probability[i]\n",
    "        cum_probability.append(temp)\n",
    "   \n",
    "    rw=[r.uniform(0,1) for i in range(len(fitness))]\n",
    "    \n",
    "    parents=[]\n",
    "    for i in range(len(rw)):\n",
    "        temp=rw[i]\n",
    "        for j in range(len(rw)):\n",
    "            if temp < cum_probability[j]:\n",
    "                parents.append(population[j])\n",
    "                break\n",
    "   \n",
    "    return parents"
   ]
  },
  {
   "cell_type": "markdown",
   "metadata": {},
   "source": [
    "### Cross-over operation:"
   ]
  },
  {
   "cell_type": "code",
   "execution_count": 6,
   "metadata": {},
   "outputs": [],
   "source": [
    "def crossover(parents,cr):\n",
    "    '''This function performs the crossover operation by using Single Point Crossover method, \n",
    "       takes population and cross-over rate as inputs'''\n",
    "\n",
    "    crossover_candidates=[]\n",
    "    parents_cpy=copy.deepcopy(parents)\n",
    "    \n",
    "    while True:\n",
    "        c_rand=[r.uniform(0,1) for i in range(len(parents))]\n",
    "        \n",
    "        crossover_candidates=[i for i in range(len(parents)) if c_rand[i] < cr]\n",
    "        if len(crossover_candidates)==round(len(parents)*0.5):\n",
    "            break\n",
    "        else:\n",
    "            crossover_candidates.clear()\n",
    "        \n",
    "    for i in range(len(crossover_candidates)):\n",
    "        if i!=len(crossover_candidates)-1:\n",
    "            cp=r.randint(1,len(parents[0])-1)\n",
    "            parents[crossover_candidates[i]]=parents_cpy[crossover_candidates[i]][0:cp]+\\\n",
    "                                             parents_cpy[crossover_candidates[i+1]][cp:]\n",
    "        else:\n",
    "            cp=r.randint(1,len(parents[0])-1)\n",
    "            parents[crossover_candidates[i]]=parents_cpy[crossover_candidates[i]][0:cp]+\\\n",
    "                                             parents_cpy[crossover_candidates[0]][cp:]\n",
    "            \n",
    "    return parents"
   ]
  },
  {
   "cell_type": "markdown",
   "metadata": {},
   "source": [
    "### Mutation operation:"
   ]
  },
  {
   "cell_type": "code",
   "execution_count": 7,
   "metadata": {},
   "outputs": [],
   "source": [
    "def mutation(crossed_parents,mr):\n",
    "    '''This function does Mutation operation, takes population and mutation-rate as input arguments'''\n",
    "    \n",
    "    total_genes=len(crossed_parents) * len(crossed_parents[0])\n",
    "    genes_to_be_mutated=round(mr*total_genes)\n",
    "    \n",
    "    mutation_positions=[r.randint(1,total_genes) for i in range(genes_to_be_mutated)]\n",
    "    mutation_positions.sort()\n",
    "    mutation_values=[r.randint(0,len(crossed_parents[0])-1) for i in range(genes_to_be_mutated)]\n",
    "    \n",
    "    pos_count=1\n",
    "    for i in range(len(crossed_parents)):\n",
    "        for j in range(len(crossed_parents[0])):\n",
    "            if pos_count in mutation_positions:\n",
    "                crossed_parents[i][j]=mutation_values[mutation_positions.index(pos_count)]\n",
    "                pos_count+=1\n",
    "            else:\n",
    "                pos_count+=1  \n",
    "                \n",
    "    mutated_parents=crossed_parents\n",
    "\n",
    "    return mutated_parents"
   ]
  },
  {
   "cell_type": "markdown",
   "metadata": {},
   "source": [
    "### Combining the Selection, Cross-over & Mutation operations for preparing next generation:"
   ]
  },
  {
   "cell_type": "code",
   "execution_count": 8,
   "metadata": {},
   "outputs": [],
   "source": [
    "def prepare_next_generation(previous_population,cr,mr):\n",
    "    '''This function combines the Selection, Cross-over & Mutation operations \n",
    "       and it takes current population, Cross-over Rate (cr) and Mutation Rate (mr) as input arguments'''\n",
    "    \n",
    "    parents=selection_by_roulette_wheel(previous_population)\n",
    "    crossovered_parents=crossover(parents,cr)\n",
    "    mutated_parents=mutation(crossovered_parents,mr)\n",
    "    return mutated_parents"
   ]
  },
  {
   "cell_type": "markdown",
   "metadata": {},
   "source": [
    "### Driver Code for 8-Queen Problem:"
   ]
  },
  {
   "cell_type": "code",
   "execution_count": 9,
   "metadata": {},
   "outputs": [
    {
     "name": "stdout",
     "output_type": "stream",
     "text": [
      "\n",
      "**********************************************************************************************\n",
      "\n",
      "|      Generation Number     |      Max. Fitness (%)     |          Best Individual          |\n",
      "\n",
      "**********************************************************************************************\n",
      "|       Generation -   1     |           75              |      [0, 6, 3, 7, 4, 1, 3, 2]     |\n",
      "|       Generation -   2     |           75              |      [6, 1, 5, 5, 0, 2, 7, 3]     |\n",
      "|       Generation -   3     |           90              |      [7, 5, 1, 2, 4, 6, 3, 0]     |\n",
      "|       Generation -   4     |           90              |      [2, 7, 3, 0, 6, 5, 1, 4]     |\n",
      "|       Generation -   5     |           85              |      [0, 3, 2, 6, 7, 1, 4, 5]     |\n",
      "|       Generation -   6     |           80              |      [2, 6, 7, 1, 5, 0, 4, 3]     |\n",
      "|       Generation -   7     |           90              |      [0, 2, 5, 7, 3, 4, 6, 1]     |\n",
      "|       Generation -   8     |           75              |      [6, 0, 5, 3, 1, 4, 7, 5]     |\n",
      "|       Generation -   9     |           80              |      [5, 2, 5, 7, 0, 1, 3, 6]     |\n",
      "|       Generation -  10     |           75              |      [5, 2, 2, 7, 3, 4, 0, 1]     |\n",
      "|       Generation -  11     |           90              |      [7, 0, 4, 6, 3, 5, 2, 1]     |\n",
      "|       Generation -  12     |           90              |      [7, 0, 4, 6, 3, 5, 2, 1]     |\n",
      "|       Generation -  13     |           85              |      [7, 5, 2, 1, 3, 0, 6, 4]     |\n",
      "|       Generation -  14     |           95              |      [1, 5, 2, 0, 6, 3, 7, 4]     |\n",
      "|       Generation -  15     |           95              |      [5, 1, 2, 0, 6, 3, 7, 4]     |\n",
      "|       Generation -  16     |           85              |      [3, 0, 1, 5, 7, 2, 4, 6]     |\n",
      "|       Generation -  17     |           85              |      [7, 3, 4, 6, 0, 5, 2, 1]     |\n",
      "|       Generation -  18     |           75              |      [4, 6, 0, 7, 2, 5, 1, 3]     |\n",
      "|       Generation -  19     |           85              |      [7, 0, 5, 3, 1, 6, 2, 4]     |\n",
      "|       Generation -  20     |           75              |      [4, 5, 3, 1, 0, 6, 2, 7]     |\n",
      "|       Generation -  21     |           75              |      [7, 0, 0, 1, 4, 2, 5, 3]     |\n",
      "|       Generation -  22     |           95              |      [4, 0, 5, 3, 1, 6, 2, 7]     |\n",
      "|       Generation -  23     |           90              |      [4, 6, 3, 0, 7, 2, 5, 1]     |\n",
      "|       Generation -  24     |           85              |      [5, 4, 3, 7, 0, 2, 6, 1]     |\n",
      "|       Generation -  25     |           85              |      [3, 5, 0, 7, 4, 2, 6, 1]     |\n",
      "|       Generation -  26     |           90              |      [1, 4, 7, 5, 0, 2, 3, 6]     |\n",
      "|       Generation -  27     |           75              |      [5, 7, 4, 2, 0, 6, 3, 3]     |\n",
      "|       Generation -  28     |           75              |      [2, 6, 3, 6, 4, 1, 7, 5]     |\n",
      "|       Generation -  29     |           70              |      [6, 4, 0, 7, 3, 1, 5, 1]     |\n",
      "|       Generation -  30     |           90              |      [7, 5, 1, 4, 6, 0, 3, 2]     |\n",
      "|       Generation -  31     |           70              |      [6, 4, 1, 1, 0, 2, 3, 7]     |\n",
      "|       Generation -  32     |           75              |      [2, 6, 0, 4, 7, 5, 1, 3]     |\n",
      "|       Generation -  33     |           80              |      [0, 6, 2, 7, 4, 3, 1, 5]     |\n",
      "|       Generation -  34     |           85              |      [5, 2, 6, 4, 7, 0, 3, 1]     |\n",
      "|       Generation -  35     |           80              |      [7, 5, 1, 3, 4, 6, 2, 0]     |\n",
      "|       Generation -  36     |           90              |      [7, 4, 2, 0, 6, 3, 1, 5]     |\n",
      "|       Generation -  37     |           85              |      [5, 2, 7, 0, 4, 6, 1, 3]     |\n",
      "|       Generation -  38     |           80              |      [3, 0, 2, 4, 1, 7, 6, 5]     |\n",
      "|       Generation -  39     |           85              |      [4, 7, 0, 2, 6, 5, 1, 3]     |\n",
      "|       Generation -  40     |           80              |      [3, 6, 0, 5, 1, 4, 4, 7]     |\n",
      "|       Generation -  41     |           80              |      [0, 4, 6, 5, 2, 7, 3, 1]     |\n",
      "|       Generation -  42     |           95              |      [1, 7, 0, 5, 2, 4, 6, 3]     |\n",
      "|       Generation -  43     |           95              |      [1, 7, 0, 5, 2, 4, 6, 3]     |\n",
      "|       Generation -  44     |           95              |      [1, 7, 0, 5, 2, 4, 6, 3]     |\n",
      "|       Generation -  45     |           75              |      [6, 2, 0, 7, 1, 4, 5, 7]     |\n",
      "|       Generation -  46     |           85              |      [4, 0, 5, 2, 3, 7, 6, 1]     |\n",
      "|       Generation -  47     |           85              |      [4, 0, 5, 2, 3, 7, 6, 1]     |\n",
      "|       Generation -  48     |           85              |      [6, 0, 2, 7, 3, 1, 5, 4]     |\n",
      "|       Generation -  49     |           85              |      [0, 7, 1, 3, 6, 5, 2, 4]     |\n",
      "|       Generation -  50     |           90              |      [0, 4, 2, 5, 3, 1, 7, 6]     |\n",
      "|       Generation -  51     |           75              |      [0, 6, 4, 1, 5, 0, 2, 3]     |\n",
      "|       Generation -  52     |           75              |      [5, 2, 6, 1, 3, 7, 6, 4]     |\n",
      "|       Generation -  53     |           75              |      [5, 2, 6, 1, 3, 7, 6, 4]     |\n",
      "|       Generation -  54     |           90              |      [5, 7, 4, 3, 0, 2, 1, 6]     |\n",
      "|       Generation -  55     |           75              |      [4, 2, 5, 7, 2, 0, 6, 1]     |\n",
      "|       Generation -  56     |           75              |      [0, 0, 6, 3, 5, 7, 2, 4]     |\n",
      "|       Generation -  57     |           75              |      [2, 1, 4, 7, 3, 0, 5, 6]     |\n",
      "|       Generation -  58     |           80              |      [5, 7, 0, 0, 3, 1, 6, 4]     |\n",
      "|       Generation -  59     |           95              |      [5, 7, 2, 0, 3, 1, 6, 4]     |\n",
      "|       Generation -  60     |           95              |      [5, 7, 2, 0, 3, 1, 6, 4]     |\n",
      "|       Generation -  61     |           95              |      [5, 7, 2, 0, 3, 1, 6, 4]     |\n",
      "|       Generation -  62     |           90              |      [2, 7, 3, 1, 6, 4, 0, 5]     |\n",
      "|       Generation -  63     |           75              |      [0, 4, 2, 7, 5, 1, 5, 6]     |\n",
      "|       Generation -  64     |          100              |      [4, 1, 3, 5, 7, 2, 0, 6]     |\n",
      "\n",
      "**********************************************************************************************\n",
      "\n",
      "Final Result: \n",
      "[4, 1, 3, 5, 7, 2, 0, 6]\n"
     ]
    }
   ],
   "source": [
    "# Setting the parameters:\n",
    "board_size=8\n",
    "no_of_individuals=450\n",
    "cr=0.55\n",
    "mr=0.15\n",
    "\n",
    "\n",
    "population=generate_population(no_of_individuals,board_size)\n",
    "\n",
    "print('\\n**********************************************************************************************')\n",
    "print('\\n|      Generation Number     |      Max. Fitness (%)     |          Best Individual          |')\n",
    "print('\\n**********************************************************************************************')\n",
    "\n",
    "\n",
    "i=1\n",
    "while True:\n",
    "\n",
    "    fitness_scores=[fitness_evaluation(individual) for individual in population]\n",
    "    \n",
    "    if len(str(i))==1:\n",
    "        print(f'|       Generation -   {i}     |           {max(fitness_scores)}              |      {sort_population_by_fitness(population)[-1]}     |')\n",
    "    \n",
    "    elif len(str(i))==2 and len(str(max(fitness_scores)))==2:\n",
    "        print(f'|       Generation -  {i}     |           {max(fitness_scores)}              |      {sort_population_by_fitness(population)[-1]}     |')\n",
    "        \n",
    "    elif len(str(i))==2 and len(str(max(fitness_scores)))==3:\n",
    "        print(f'|       Generation -  {i}     |          {max(fitness_scores)}              |      {sort_population_by_fitness(population)[-1]}     |')\n",
    "          \n",
    "    elif len(str(i))==1 and len(str(max(fitness_scores)))==3:\n",
    "        print(f'|       Generation -  {i}     | {max(fitness_scores)}       |      {sort_population_by_fitness(population)[-1]}     |')\n",
    "\n",
    "    elif len(str(i))==3 and len(str(max(fitness_scores)))==2:\n",
    "        print(f'|      Generation -  {i}     |          {max(fitness_scores)}               |      {sort_population_by_fitness(population)[-1]}     |')\n",
    "        \n",
    "    elif len(str(i))==3 and str(max(fitness_scores))==3:\n",
    "        print(f'|       Generation -  {i}     |{max(fitness_scores)}         |      {sort_population_by_fitness(population)[-1]}     |')    \n",
    "        \n",
    "        \n",
    "    if max(fitness_scores)==100:\n",
    "          break\n",
    "\n",
    "    i+=1\n",
    "          \n",
    "    population=prepare_next_generation(population,cr,mr)\n",
    "    \n",
    "print('\\n**********************************************************************************************')\n",
    "          \n",
    "       \n",
    "best_individual=sort_population_by_fitness(population)[-1]\n",
    "          \n",
    "print('\\nFinal Result: ')\n",
    "          \n",
    "print(best_individual)"
   ]
  },
  {
   "cell_type": "markdown",
   "metadata": {},
   "source": [
    "### Visualizing the solution:"
   ]
  },
  {
   "cell_type": "code",
   "execution_count": 14,
   "metadata": {},
   "outputs": [
    {
     "name": "stdout",
     "output_type": "stream",
     "text": [
      "8  | \t#\t#\t#\t#\tQ\t#\t#\t#\t|  8 \n",
      "\n",
      "7  | \t#\t#\t#\t#\t#\t#\t#\tQ\t|  7 \n",
      "\n",
      "6  | \t#\t#\t#\tQ\t#\t#\t#\t#\t|  6 \n",
      "\n",
      "5  | \tQ\t#\t#\t#\t#\t#\t#\t#\t|  5 \n",
      "\n",
      "4  | \t#\t#\tQ\t#\t#\t#\t#\t#\t|  4 \n",
      "\n",
      "3  | \t#\t#\t#\t#\t#\tQ\t#\t#\t|  3 \n",
      "\n",
      "2  | \t#\tQ\t#\t#\t#\t#\t#\t#\t|  2 \n",
      "\n",
      "1  | \t#\t#\t#\t#\t#\t#\tQ\t#\t|  1 \n",
      "\n"
     ]
    }
   ],
   "source": [
    "x=best_individual\n",
    "\n",
    "board=[['#' for i in range(8)] for j in range(8)]\n",
    "\n",
    " \n",
    "#updating board with queens:\n",
    "for i in range(len(board)):\n",
    "    for j in range(len(board[0])):\n",
    "        if 8-(x[j]+1)==i:\n",
    "            board[i][j]='Q'\n",
    "\n",
    "\n",
    "t=8\n",
    "for i in range(len(board)):\n",
    "    print(t,' | ',end='\\t')\n",
    "    for j  in range(len(board[0])):\n",
    "        print(board[i][j],end='\\t')\n",
    "    print('| ',t,'\\n')\n",
    "    t-=1"
   ]
  }
 ],
 "metadata": {
  "kernelspec": {
   "display_name": "Python 3",
   "language": "python",
   "name": "python3"
  },
  "language_info": {
   "codemirror_mode": {
    "name": "ipython",
    "version": 3
   },
   "file_extension": ".py",
   "mimetype": "text/x-python",
   "name": "python",
   "nbconvert_exporter": "python",
   "pygments_lexer": "ipython3",
   "version": "3.7.7"
  }
 },
 "nbformat": 4,
 "nbformat_minor": 4
}
